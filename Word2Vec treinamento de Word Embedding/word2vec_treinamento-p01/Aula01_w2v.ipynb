{
  "cells": [
    {
      "cell_type": "code",
      "execution_count": null,
      "metadata": {
        "colab": {},
        "colab_type": "code",
        "id": "kDGQFwJTlJ1S"
      },
      "outputs": [],
      "source": [
        "import pandas as pd\n",
        "import spacy"
      ]
    },
    {
      "cell_type": "code",
      "execution_count": null,
      "metadata": {
        "colab": {
          "base_uri": "https://localhost:8080/",
          "height": 289
        },
        "colab_type": "code",
        "id": "uCoG4JfZlN_X",
        "outputId": "578b7eea-16bd-40de-b2a5-d3776f7320f4"
      },
      "outputs": [],
      "source": [
        "dados_treino = pd.read_csv(\"/content/drive/My Drive/curso_word2vec/treino.csv\")\n",
        "dados_treino.sample(5)"
      ]
    },
    {
      "cell_type": "markdown",
      "metadata": {},
      "source": []
    },
    {
      "cell_type": "code",
      "execution_count": null,
      "metadata": {
        "colab": {
          "base_uri": "https://localhost:8080/",
          "height": 581
        },
        "colab_type": "code",
        "id": "0wkJA2A9l3Ap",
        "outputId": "35dcca62-352f-4fae-cd4b-4b853f296394"
      },
      "outputs": [],
      "source": [
        "#Rodas apenas uma vez\n",
        "!python -m spacy download pt_core_news_sm"
      ]
    },
    {
      "cell_type": "code",
      "execution_count": null,
      "metadata": {
        "colab": {},
        "colab_type": "code",
        "id": "4YO1i6fKnHQ1"
      },
      "outputs": [],
      "source": [
        "nlp = spacy.load(\"pt_core_news_sm\")"
      ]
    },
    {
      "cell_type": "code",
      "execution_count": null,
      "metadata": {
        "colab": {},
        "colab_type": "code",
        "id": "YPwe50jqmRJk"
      },
      "outputs": [],
      "source": [
        "texto = \"Rio de Janeiro é uma cidade maravilhosa\"\n",
        "doc = nlp(texto)"
      ]
    },
    {
      "cell_type": "code",
      "execution_count": null,
      "metadata": {
        "colab": {
          "base_uri": "https://localhost:8080/",
          "height": 34
        },
        "colab_type": "code",
        "id": "10H49z91o9wl",
        "outputId": "32d63ce8-9a7b-4dad-b212-1bd704103d17"
      },
      "outputs": [],
      "source": [
        "doc"
      ]
    },
    {
      "cell_type": "code",
      "execution_count": null,
      "metadata": {
        "colab": {
          "base_uri": "https://localhost:8080/",
          "height": 34
        },
        "colab_type": "code",
        "id": "Cfd0v1-Ws4-2",
        "outputId": "6cef1286-225f-4d7c-d86c-9269f8389235"
      },
      "outputs": [],
      "source": [
        "type(doc[2])"
      ]
    },
    {
      "cell_type": "code",
      "execution_count": null,
      "metadata": {
        "colab": {},
        "colab_type": "code",
        "id": "Ii643vR80g3K"
      },
      "outputs": [],
      "source": []
    }
  ],
  "metadata": {
    "colab": {
      "collapsed_sections": [],
      "name": "Aula01_w2v.ipynb",
      "provenance": []
    },
    "kernelspec": {
      "display_name": "Python 3",
      "name": "python3"
    },
    "language_info": {
      "codemirror_mode": {
        "name": "ipython",
        "version": 3
      },
      "file_extension": ".py",
      "mimetype": "text/x-python",
      "name": "python",
      "nbconvert_exporter": "python",
      "pygments_lexer": "ipython3",
      "version": "3.10.2"
    }
  },
  "nbformat": 4,
  "nbformat_minor": 0
}
