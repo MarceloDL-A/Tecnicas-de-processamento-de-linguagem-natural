{
 "cells": [
  {
   "cell_type": "code",
   "execution_count": 1,
   "metadata": {},
   "outputs": [],
   "source": [
    "# Gráfico de pareto\n",
    "def pareto(texto, coluna_texto, quantidade):\n",
    "  todas_palavras = ' '.join([resenha for resenha in texto[coluna_texto]])\n",
    "  token_espaco = nltk.tokenize.WhitespaceTokenizer()\n",
    "  token_frase = token_espaco.tokenize(todas_palavras)\n",
    "  frequencias = nltk.FreqDist(token_frase)\n",
    "  df_frequencias = pd.DataFrame({'Palavras': list(frequencias.keys()),\n",
    "                               'Frequencia': list(frequencias.values())})\n",
    "  df_frequencias = df_frequencias.nlargest(n=quantidade, columns='Frequencia')\n",
    "\n",
    "  total = df_frequencias['Frequencia'].sum()\n",
    "  df_frequencias['Porcentagem'] = df_frequencias['Frequencia'].cumsum() / total * 100\n",
    "\n",
    "  plt.figure(figsize=(12,8))\n",
    "  ax = sns.barplot(data=df_frequencias, x='Palavras', y='Frequencia', color='gray')\n",
    "  ax2 = ax.twinx()\n",
    "  sns.lineplot(data=df_frequencias, x='Palavras', y='Porcentagem', color='red', sort=False, ax=ax2)\n",
    "  plt.show()"
   ]
  }
 ],
 "metadata": {
  "interpreter": {
   "hash": "14a42c00608a2aaa9b1eac0def2f2f69739590a3b4b51677664d53665821c6f4"
  },
  "kernelspec": {
   "display_name": "Python 3.10.2 64-bit",
   "language": "python",
   "name": "python3"
  },
  "language_info": {
   "codemirror_mode": {
    "name": "ipython",
    "version": 3
   },
   "file_extension": ".py",
   "mimetype": "text/x-python",
   "name": "python",
   "nbconvert_exporter": "python",
   "pygments_lexer": "ipython3",
   "version": "3.10.2"
  },
  "orig_nbformat": 4
 },
 "nbformat": 4,
 "nbformat_minor": 2
}
